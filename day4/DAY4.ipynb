{
 "cells": [
  {
   "cell_type": "code",
   "execution_count": 1,
   "metadata": {},
   "outputs": [
    {
     "data": {
      "text/plain": [
       "47"
      ]
     },
     "execution_count": 1,
     "metadata": {},
     "output_type": "execute_result"
    }
   ],
   "source": [
    "# collection of modules\n",
    "from packages import module\n",
    "module.add(23,24)"
   ]
  },
  {
   "cell_type": "code",
   "execution_count": 3,
   "metadata": {},
   "outputs": [
    {
     "name": "stdout",
     "output_type": "stream",
     "text": [
      "isleapyear\n"
     ]
    }
   ],
   "source": [
    "from packages import module\n",
    "module.isleapyear(2020)"
   ]
  },
  {
   "cell_type": "code",
   "execution_count": 1,
   "metadata": {
    "scrolled": true
   },
   "outputs": [],
   "source": [
    "from packages import module"
   ]
  },
  {
   "cell_type": "code",
   "execution_count": 2,
   "metadata": {},
   "outputs": [
    {
     "name": "stdout",
     "output_type": "stream",
     "text": [
      "not prime\n"
     ]
    }
   ],
   "source": [
    "module.isprime(45)"
   ]
  },
  {
   "cell_type": "code",
   "execution_count": 1,
   "metadata": {},
   "outputs": [],
   "source": [
    "from packages import module\n"
   ]
  },
  {
   "cell_type": "code",
   "execution_count": 2,
   "metadata": {},
   "outputs": [
    {
     "name": "stdout",
     "output_type": "stream",
     "text": [
      "2\n",
      "4\n",
      "6\n",
      "8\n",
      "10\n",
      "12\n",
      "14\n",
      "16\n",
      "18\n",
      "20\n",
      "22\n",
      "24\n",
      "26\n",
      "28\n",
      "30\n"
     ]
    }
   ],
   "source": [
    "module.allEven(1,30)"
   ]
  },
  {
   "cell_type": "code",
   "execution_count": 2,
   "metadata": {},
   "outputs": [],
   "source": [
    "from packages import module"
   ]
  },
  {
   "cell_type": "code",
   "execution_count": 3,
   "metadata": {},
   "outputs": [
    {
     "data": {
      "text/plain": [
       "120"
      ]
     },
     "execution_count": 3,
     "metadata": {},
     "output_type": "execute_result"
    }
   ],
   "source": [
    "module.fact(5)"
   ]
  },
  {
   "cell_type": "markdown",
   "metadata": {},
   "source": [
    "# Files"
   ]
  },
  {
   "cell_type": "code",
   "execution_count": 4,
   "metadata": {},
   "outputs": [],
   "source": [
    "# open(data.txt,mode)\n",
    "# write(data.txt,'w')\n",
    "# read(data.txt,'r') \n",
    "# append(data.txt,'a')\n",
    "# f.close()"
   ]
  },
  {
   "cell_type": "code",
   "execution_count": 8,
   "metadata": {},
   "outputs": [],
   "source": [
    "def writeData():\n",
    "    with open(\"files/data1.txt\",'w') as f:\n",
    "        f.write(\"APSSDC\")\n",
    "    f.close()\n",
    "writeData()"
   ]
  },
  {
   "cell_type": "code",
   "execution_count": 9,
   "metadata": {},
   "outputs": [
    {
     "name": "stdout",
     "output_type": "stream",
     "text": [
      "APSSDC\n"
     ]
    }
   ],
   "source": [
    "def readData():\n",
    "    with open(\"files/data1.txt\",'r') as f:\n",
    "        print(f.read())\n",
    "readData()        "
   ]
  },
  {
   "cell_type": "code",
   "execution_count": 52,
   "metadata": {},
   "outputs": [],
   "source": [
    "def appendData():\n",
    "    with open(\"files/data1.txt\",'a') as f:\n",
    "        f.write(\"\\n visakhapatnam\")\n",
    "    f.close()\n",
    "appendData()    \n",
    "    "
   ]
  },
  {
   "cell_type": "code",
   "execution_count": 53,
   "metadata": {},
   "outputs": [
    {
     "name": "stdout",
     "output_type": "stream",
     "text": [
      "APSSDCvisakhapatnam\n",
      "\n",
      " visakhapatnam\n",
      "\n",
      " visakhapatnam\n",
      "\n",
      " visakhapatnam\n",
      "\n",
      " visakhapatnam\n",
      "\n",
      " workshop\n"
     ]
    }
   ],
   "source": [
    "def readData():\n",
    "    with open(\"files/data1.txt\",'r') as f:\n",
    "        for line in f.readlines():\n",
    "            print(line)\n",
    "readData()       "
   ]
  },
  {
   "cell_type": "code",
   "execution_count": 54,
   "metadata": {},
   "outputs": [
    {
     "name": "stdout",
     "output_type": "stream",
     "text": [
      "A\n",
      "P\n",
      "S\n",
      "S\n",
      "D\n",
      "C\n",
      "v\n",
      "i\n",
      "s\n",
      "a\n",
      "k\n",
      "h\n",
      "a\n",
      "p\n",
      "a\n",
      "t\n",
      "n\n",
      "a\n",
      "m\n",
      "\n",
      "\n",
      " \n",
      "v\n",
      "i\n",
      "s\n",
      "a\n",
      "k\n",
      "h\n",
      "a\n",
      "p\n",
      "a\n",
      "t\n",
      "n\n",
      "a\n",
      "m\n",
      "\n",
      "\n",
      " \n",
      "v\n",
      "i\n",
      "s\n",
      "a\n",
      "k\n",
      "h\n",
      "a\n",
      "p\n",
      "a\n",
      "t\n",
      "n\n",
      "a\n",
      "m\n",
      "\n",
      "\n",
      " \n",
      "v\n",
      "i\n",
      "s\n",
      "a\n",
      "k\n",
      "h\n",
      "a\n",
      "p\n",
      "a\n",
      "t\n",
      "n\n",
      "a\n",
      "m\n",
      "\n",
      "\n",
      " \n",
      "v\n",
      "i\n",
      "s\n",
      "a\n",
      "k\n",
      "h\n",
      "a\n",
      "p\n",
      "a\n",
      "t\n",
      "n\n",
      "a\n",
      "m\n",
      "\n",
      "\n",
      " \n",
      "w\n",
      "o\n",
      "r\n",
      "k\n",
      "s\n",
      "h\n",
      "o\n",
      "p\n"
     ]
    }
   ],
   "source": [
    "def readData():\n",
    "    with open(\"files/data1.txt\",'r') as f:\n",
    "        for line in f.read():\n",
    "            print(line)\n",
    "readData()     "
   ]
  },
  {
   "cell_type": "code",
   "execution_count": 67,
   "metadata": {},
   "outputs": [],
   "source": [
    " from random import randint\n",
    "    \n",
    "def markList(n,lb,ub):\n",
    "    with open(\"files/marks.txt\",\"w\") as f:\n",
    "        for student in range(60):\n",
    "            mark = randint(lb,ub)\n",
    "            f.write(str(mark))\n",
    "            f.write(\"\\n\")\n",
    "    f.close\n",
    "        \n",
    "markList(60,0,100)"
   ]
  },
  {
   "cell_type": "code",
   "execution_count": 68,
   "metadata": {},
   "outputs": [
    {
     "name": "stdout",
     "output_type": "stream",
     "text": [
      "average of total students 47.8\n"
     ]
    }
   ],
   "source": [
    "def avgStudentMarks():\n",
    "    with open(\"files/marks.txt\",\"r\") as f:   \n",
    "        sum=0\n",
    "        c=0\n",
    "        for line in f:\n",
    "            sum +=int(line)\n",
    "            c +=1\n",
    "        print(\"average of total students\",sum/c)\n",
    "avgStudentMarks()"
   ]
  },
  {
   "cell_type": "code",
   "execution_count": null,
   "metadata": {},
   "outputs": [],
   "source": [
    "passpercentage = >35\n",
    "failedpercentage > 35\n",
    "\n",
    "def passedstudents():"
   ]
  },
  {
   "cell_type": "code",
   "execution_count": 72,
   "metadata": {},
   "outputs": [
    {
     "data": {
      "text/plain": [
       "6"
      ]
     },
     "execution_count": 72,
     "metadata": {},
     "output_type": "execute_result"
    }
   ],
   "source": [
    "def Linecount():\n",
    "    with open(\"files/data1.txt\",\"r\") as f:\n",
    "        c=0\n",
    "        for line in f.readlines():\n",
    "            c+=1\n",
    "    return c\n",
    "Linecount()\n",
    "        "
   ]
  },
  {
   "cell_type": "code",
   "execution_count": 76,
   "metadata": {},
   "outputs": [
    {
     "name": "stdout",
     "output_type": "stream",
     "text": [
      "char count 0\n",
      "alpha count 79\n"
     ]
    }
   ],
   "source": [
    "def alphaCount():\n",
    "    with open(\"files/data1.txt\",\"r\") as f:\n",
    "        c=0\n",
    "        ch=0\n",
    "        for char in f.read():\n",
    "            #print(char)\n",
    "            ch+1\n",
    "            if char.isalpha():\n",
    "                c+=1\n",
    "    print(\"char count\",ch)\n",
    "    print(\"alpha count\",c)\n",
    "alphaCount()"
   ]
  },
  {
   "cell_type": "code",
   "execution_count": 88,
   "metadata": {},
   "outputs": [
    {
     "ename": "SyntaxError",
     "evalue": "invalid syntax (<ipython-input-88-91d08d2860f9>, line 4)",
     "output_type": "error",
     "traceback": [
      "\u001b[1;36m  File \u001b[1;32m\"<ipython-input-88-91d08d2860f9>\"\u001b[1;36m, line \u001b[1;32m4\u001b[0m\n\u001b[1;33m    if line == \" \"\u001b[0m\n\u001b[1;37m                  ^\u001b[0m\n\u001b[1;31mSyntaxError\u001b[0m\u001b[1;31m:\u001b[0m invalid syntax\n"
     ]
    }
   ],
   "source": [
    "def wordCount():\n",
    "    with open(\"files/data1.txt\",\"r\") as f:\n",
    "        for line in f.read(): \n",
    "            if line == \" \"\n",
    "                print(line)\n",
    "                c+=1\n",
    "    print(c)        \n",
    "wordCount()"
   ]
  },
  {
   "cell_type": "code",
   "execution_count": 87,
   "metadata": {},
   "outputs": [
    {
     "name": "stdout",
     "output_type": "stream",
     "text": [
      "6\n"
     ]
    }
   ],
   "source": [
    "def wordCount():\n",
    "    with open(\"files/data1.txt\",\"r\") as f:\n",
    "        c=0\n",
    "        for line in f.readlines():\n",
    "            c+=len(line.split()) \n",
    "    print(c)        \n",
    "wordCount()"
   ]
  },
  {
   "cell_type": "code",
   "execution_count": null,
   "metadata": {},
   "outputs": [],
   "source": [
    "def splCharCount():\n",
    "    "
   ]
  }
 ],
 "metadata": {
  "kernelspec": {
   "display_name": "Python 3",
   "language": "python",
   "name": "python3"
  },
  "language_info": {
   "codemirror_mode": {
    "name": "ipython",
    "version": 3
   },
   "file_extension": ".py",
   "mimetype": "text/x-python",
   "name": "python",
   "nbconvert_exporter": "python",
   "pygments_lexer": "ipython3",
   "version": "3.7.4"
  }
 },
 "nbformat": 4,
 "nbformat_minor": 2
}
